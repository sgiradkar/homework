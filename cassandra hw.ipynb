{
 "cells": [
  {
   "cell_type": "code",
   "execution_count": 2,
   "metadata": {},
   "outputs": [],
   "source": [
    "from cassandra.cluster import Cluster\n",
    "from cassandra.auth import PlainTextAuthProvider"
   ]
  },
  {
   "cell_type": "code",
   "execution_count": 5,
   "metadata": {},
   "outputs": [
    {
     "name": "stdout",
     "output_type": "stream",
     "text": [
      "4.0.0.6813\n"
     ]
    }
   ],
   "source": [
    "cloud_config= {\n",
    "        'secure_connect_bundle': 'E:\\secure-connect-test.zip'\n",
    "}\n",
    "auth_provider = PlainTextAuthProvider('QnitnoceucekGFGZdIJHWsGl', 'beSYGsqhRbRl4Too-vwy.Z286IZq0m7rHx-kU8zY-9bj9xcHHTPduuSwQZNe6KTnhmBILWZfWSaG039_+n+_73M2qUFpvZd9YzcU6qYIkXl9GgigpwDpHBBd+.yNFr4a')\n",
    "cluster = Cluster(cloud=cloud_config, auth_provider=auth_provider)\n",
    "session = cluster.connect()\n",
    "\n",
    "row = session.execute(\"select release_version from system.local\").one()\n",
    "if row:\n",
    "    print(row[0])\n",
    "else:\n",
    "    print(\"An error occurred.\")\n"
   ]
  },
  {
   "cell_type": "markdown",
   "metadata": {},
   "source": [
    "# create table inside keyspace"
   ]
  },
  {
   "cell_type": "code",
   "execution_count": 10,
   "metadata": {},
   "outputs": [
    {
     "name": "stdout",
     "output_type": "stream",
     "text": [
      "None\n"
     ]
    }
   ],
   "source": [
    "\n",
    "row = session.execute(\"CREATE TABLE sg.emp(e_id INT PRIMARY KEY,e_name VARCHAR,dob DATE,dept VARCHAR,city VARCHAR,salary DECIMAL);\").one()\n",
    "print(row)"
   ]
  },
  {
   "cell_type": "markdown",
   "metadata": {},
   "source": [
    "# insert data"
   ]
  },
  {
   "cell_type": "code",
   "execution_count": 19,
   "metadata": {},
   "outputs": [
    {
     "name": "stdout",
     "output_type": "stream",
     "text": [
      "None\n"
     ]
    }
   ],
   "source": [
    "row = session.execute(\"INSERT INTO sg.emp(e_id ,e_name,dob ,dept ,city,salary ) VALUES (1,'vini','2000-02-02','IT','dehradun',6500);\").one()\n",
    "print(row)"
   ]
  },
  {
   "cell_type": "code",
   "execution_count": 21,
   "metadata": {},
   "outputs": [
    {
     "name": "stdout",
     "output_type": "stream",
     "text": [
      "None\n"
     ]
    }
   ],
   "source": [
    "row = session.execute(\"INSERT INTO sg.emp(e_id ,e_name,dob ,dept ,city,salary ) VALUES (2,'anu','2000-02-03','IT','uttarakhand',7500);\").one()\n",
    "row = session.execute(\"INSERT INTO sg.emp(e_id ,e_name,dob ,dept ,city,salary ) VALUES (3,'windy','2002-03-19','marketting','delhi',4500);\").one()\n",
    "row = session.execute(\"INSERT INTO sg.emp(e_id ,e_name,dob ,dept ,city,salary ) VALUES (4,'tom','2005-06-22','IT','mumbai',6500);\").one()\n",
    "row = session.execute(\"INSERT INTO sg.emp(e_id ,e_name,dob ,dept ,city,salary ) VALUES (5,'jerry','2000-10-15','Accountant','banglore',7500);\").one()\n",
    "row = session.execute(\"INSERT INTO sg.emp(e_id ,e_name,dob ,dept ,city,salary ) VALUES (6,'joy','2004-08-13','HR','chennai',1500);\").one()\n",
    "row = session.execute(\"INSERT INTO sg.emp(e_id ,e_name,dob ,dept ,city,salary ) VALUES (7,'oswald','1999-01-12','marketting','kolkata',35);\").one()\n",
    "print(row)"
   ]
  },
  {
   "cell_type": "markdown",
   "metadata": {},
   "source": [
    "# display all records"
   ]
  },
  {
   "cell_type": "code",
   "execution_count": 25,
   "metadata": {},
   "outputs": [
    {
     "name": "stdout",
     "output_type": "stream",
     "text": [
      "Row(e_id=5, city='banglore', dept='Accountant', dob=Date(11245), e_name='jerry', salary=Decimal('7500'))\n",
      "Row(e_id=1, city='dehradun', dept='IT', dob=Date(10989), e_name='vini', salary=Decimal('6500'))\n",
      "Row(e_id=2, city='uttarakhand', dept='IT', dob=Date(10990), e_name='anu', salary=Decimal('7500'))\n",
      "Row(e_id=4, city='mumbai', dept='IT', dob=Date(12956), e_name='tom', salary=Decimal('6500'))\n",
      "Row(e_id=7, city='kolkata', dept='marketting', dob=Date(10603), e_name='oswald', salary=Decimal('35'))\n",
      "Row(e_id=6, city='chennai', dept='HR', dob=Date(12643), e_name='joy', salary=Decimal('1500'))\n",
      "Row(e_id=3, city='delhi', dept='marketting', dob=Date(11765), e_name='windy', salary=Decimal('4500'))\n"
     ]
    }
   ],
   "source": [
    "row = session.execute(\"SELECT * FROM sg.emp;\").all()\n",
    "for i in row:\n",
    "    print(i)\n"
   ]
  },
  {
   "cell_type": "markdown",
   "metadata": {},
   "source": [
    "# delete specific record"
   ]
  },
  {
   "cell_type": "code",
   "execution_count": 36,
   "metadata": {},
   "outputs": [],
   "source": [
    "row = session.execute(\"DELETE  FROM sg.emp  WHERE e_id=4;\").one()"
   ]
  },
  {
   "cell_type": "code",
   "execution_count": 37,
   "metadata": {},
   "outputs": [
    {
     "name": "stdout",
     "output_type": "stream",
     "text": [
      "Row(e_id=5, city='banglore', dept='Accountant', dob=Date(11245), e_name='jerry', salary=Decimal('7500'))\n",
      "Row(e_id=1, city='dehradun', dept='IT', dob=Date(10989), e_name='vini', salary=Decimal('6500'))\n",
      "Row(e_id=2, city='uttarakhand', dept='IT', dob=Date(10990), e_name='anu', salary=Decimal('7500'))\n",
      "Row(e_id=7, city='kolkata', dept='marketting', dob=Date(10603), e_name='oswald', salary=Decimal('35'))\n",
      "Row(e_id=6, city='chennai', dept='HR', dob=Date(12643), e_name='joy', salary=Decimal('1500'))\n",
      "Row(e_id=3, city='delhi', dept='marketting', dob=Date(11765), e_name='windy', salary=Decimal('4500'))\n"
     ]
    }
   ],
   "source": [
    "row = session.execute(\"SELECT * FROM sg.emp;\").all()\n",
    "for i in row:\n",
    "    print(i)\n"
   ]
  },
  {
   "cell_type": "markdown",
   "metadata": {},
   "source": [
    "# alter table"
   ]
  },
  {
   "cell_type": "code",
   "execution_count": 40,
   "metadata": {},
   "outputs": [],
   "source": [
    "row = session.execute(\"ALTER TABLE sg.emp ADD pin int;\").all()\n",
    "for i in row:\n",
    "    print(i)"
   ]
  },
  {
   "cell_type": "markdown",
   "metadata": {},
   "source": [
    "#  update and set"
   ]
  },
  {
   "cell_type": "code",
   "execution_count": 45,
   "metadata": {},
   "outputs": [],
   "source": [
    "row = session.execute(\"UPDATE sg.emp SET pin=44009 WHERE e_id=3\").one()"
   ]
  },
  {
   "cell_type": "code",
   "execution_count": 46,
   "metadata": {},
   "outputs": [
    {
     "name": "stdout",
     "output_type": "stream",
     "text": [
      "Row(e_id=5, city='banglore', dept='Accountant', dob=Date(11245), e_name='jerry', pin=None, salary=Decimal('7500'))\n",
      "Row(e_id=1, city='dehradun', dept='IT', dob=Date(10989), e_name='vini', pin=None, salary=Decimal('6500'))\n",
      "Row(e_id=2, city='uttarakhand', dept='IT', dob=Date(10990), e_name='anu', pin=None, salary=Decimal('7500'))\n",
      "Row(e_id=7, city='kolkata', dept='marketting', dob=Date(10603), e_name='oswald', pin=None, salary=Decimal('35'))\n",
      "Row(e_id=6, city='chennai', dept='HR', dob=Date(12643), e_name='joy', pin=None, salary=Decimal('1500'))\n",
      "Row(e_id=3, city='delhi', dept='marketting', dob=Date(11765), e_name='windy', pin=44009, salary=Decimal('4500'))\n"
     ]
    }
   ],
   "source": [
    "row = session.execute(\"SELECT * FROM sg.emp;\").all()\n",
    "for i in row:\n",
    "    print(i)"
   ]
  },
  {
   "cell_type": "markdown",
   "metadata": {},
   "source": [
    "# ALIASES "
   ]
  },
  {
   "cell_type": "code",
   "execution_count": 47,
   "metadata": {},
   "outputs": [
    {
     "name": "stdout",
     "output_type": "stream",
     "text": [
      "Row(name='jerry')\n",
      "Row(name='vini')\n",
      "Row(name='anu')\n",
      "Row(name='oswald')\n",
      "Row(name='joy')\n",
      "Row(name='windy')\n"
     ]
    }
   ],
   "source": [
    "row = session.execute(\"SELECT e_name AS name FROM sg.emp;\").all()\n",
    "for i in row:\n",
    "    print(i)"
   ]
  },
  {
   "cell_type": "markdown",
   "metadata": {},
   "source": [
    "#  count"
   ]
  },
  {
   "cell_type": "code",
   "execution_count": 79,
   "metadata": {},
   "outputs": [
    {
     "name": "stdout",
     "output_type": "stream",
     "text": [
      "[Row(count=6)]\n"
     ]
    }
   ],
   "source": [
    "row = session.execute(\"SELECT COUNT(* ) FROM sg.emp;\").all()\n",
    "print(row)"
   ]
  },
  {
   "cell_type": "code",
   "execution_count": 78,
   "metadata": {},
   "outputs": [
    {
     "name": "stdout",
     "output_type": "stream",
     "text": [
      "[Row(system_count_e_id=6)]\n"
     ]
    }
   ],
   "source": [
    "row = session.execute(\"SELECT COUNT(e_id) FROM sg.emp;\").all()\n",
    "print(row)"
   ]
  },
  {
   "cell_type": "markdown",
   "metadata": {},
   "source": [
    "# avg"
   ]
  },
  {
   "cell_type": "code",
   "execution_count": 77,
   "metadata": {},
   "outputs": [
    {
     "name": "stdout",
     "output_type": "stream",
     "text": [
      "[Row(system_avg_salary=Decimal('4589'))]\n"
     ]
    }
   ],
   "source": [
    "row = session.execute(\"SELECT AVG(salary ) FROM sg.emp;\").all()\n",
    "print(row)"
   ]
  },
  {
   "cell_type": "markdown",
   "metadata": {},
   "source": [
    "# sum"
   ]
  },
  {
   "cell_type": "code",
   "execution_count": 76,
   "metadata": {},
   "outputs": [
    {
     "name": "stdout",
     "output_type": "stream",
     "text": [
      "[Row(system_sum_salary=Decimal('27535'))]\n"
     ]
    }
   ],
   "source": [
    "row = session.execute(\"SELECT SUM(salary ) FROM sg.emp;\").all()\n",
    "print(row)"
   ]
  },
  {
   "cell_type": "markdown",
   "metadata": {},
   "source": [
    "#  MAX"
   ]
  },
  {
   "cell_type": "code",
   "execution_count": 75,
   "metadata": {},
   "outputs": [
    {
     "name": "stdout",
     "output_type": "stream",
     "text": [
      "[Row(system_max_salary=Decimal('7500'))]\n"
     ]
    }
   ],
   "source": [
    "row = session.execute(\"SELECT MAX(salary ) FROM sg.emp;\").all()\n",
    "print(row)"
   ]
  },
  {
   "cell_type": "markdown",
   "metadata": {},
   "source": [
    "# min"
   ]
  },
  {
   "cell_type": "code",
   "execution_count": 74,
   "metadata": {},
   "outputs": [
    {
     "name": "stdout",
     "output_type": "stream",
     "text": [
      "[Row(system_min_salary=Decimal('35'))]\n"
     ]
    }
   ],
   "source": [
    "row = session.execute(\"SELECT MIN(salary ) FROM sg.emp;\").all()\n",
    "print(row)"
   ]
  }
 ],
 "metadata": {
  "kernelspec": {
   "display_name": "Python 3",
   "language": "python",
   "name": "python3"
  },
  "language_info": {
   "codemirror_mode": {
    "name": "ipython",
    "version": 3
   },
   "file_extension": ".py",
   "mimetype": "text/x-python",
   "name": "python",
   "nbconvert_exporter": "python",
   "pygments_lexer": "ipython3",
   "version": "3.8.5"
  }
 },
 "nbformat": 4,
 "nbformat_minor": 4
}
